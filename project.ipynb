{
 "cells": [
  {
   "cell_type": "code",
   "execution_count": null,
   "metadata": {},
   "outputs": [],
   "source": [
    "from modules.data import load_dataset , view_random_images , augment_dataset , get_split_stats , create_stratified_split\n",
    "from modules.preprocessing import preprocess_image\n",
    "from modules.feature_extraction import extract_features , extract_features_skimage\n",
    "from modules.models import nn_model , svm_model , save_model , load_model\n",
    "\n",
    "import numpy as np\n",
    "\n",
    "%reload_ext autoreload\n",
    "%autoreload 2\n",
    "%matplotlib inline\n",
    "\n",
    "# stored variables are:\n",
    "# %store -r images\n",
    "# %store -r labels\n",
    "# %store -r augmented_images\n",
    "# %store -r augmented_labels\n",
    "# %store -r train_images\n",
    "# %store -r train_labels\n",
    "# %store -r test_images\n",
    "# %store -r test_labels\n",
    "# %store -r val_images\n",
    "# %store -r val_labels\n",
    "\n",
    "\n",
    "%store -r"
   ]
  },
  {
   "cell_type": "code",
   "execution_count": null,
   "metadata": {},
   "outputs": [],
   "source": [
    "#Load the dataset and view some random images\n",
    "\n",
    "# images , labels = load_dataset('dataset')\n",
    "# %store images\n",
    "# %store labels\n",
    "\n",
    "print(\"DataSet Size :\" , len(images))\n",
    "assert len(images) == len(labels) , \"Images and labels are not of the same size\"\n",
    "view_random_images(images, labels , num_images=10)"
   ]
  },
  {
   "cell_type": "code",
   "execution_count": null,
   "metadata": {},
   "outputs": [],
   "source": [
    "#Augment the dataset and view some random images\n",
    "\n",
    "# augmented_images , augmented_labels = augment_dataset(images, labels , num_images=679)\n",
    "# %store augmented_images\n",
    "# %store augmented_labels\n",
    "\n",
    "print(\"Augmented DataSet Size :\" , len(augmented_images))\n",
    "assert len(augmented_images) == len(augmented_labels) , \"Images and labels of augmented Dataset are not of the same size\"\n",
    "view_random_images(augmented_images, augmented_labels , num_images=10)"
   ]
  },
  {
   "cell_type": "code",
   "execution_count": null,
   "metadata": {},
   "outputs": [],
   "source": [
    "import matplotlib.pyplot as plt\n",
    "num = np.random.randint(0,len(train_images))\n",
    "# num = 797\n",
    "print(num)\n",
    "img = preprocess_image(images[num])\n",
    "#Shape of the image\n",
    "print(\"Shape of the image :\" , img.shape)\n",
    "print(\"Label: \" , labels[num])\n",
    "#PLOT 2 IMAGES\n",
    "plt.subplot(1,2,1)\n",
    "plt.imshow(images[num])\n",
    "plt.subplot(1,2,2)\n",
    "plt.imshow(img , cmap='binary')\n",
    "plt.show()"
   ]
  },
  {
   "cell_type": "code",
   "execution_count": null,
   "metadata": {},
   "outputs": [],
   "source": [
    "#preprocess the images and store them in place\n",
    "for i in range(len(images)):\n",
    "    images[i] = preprocess_image(images[i])\n",
    "# view some random images\n",
    "view_random_images(images, labels , num_images=10)"
   ]
  },
  {
   "cell_type": "code",
   "execution_count": null,
   "metadata": {},
   "outputs": [],
   "source": [
    "#preprocess the augmented images and store them in place\n",
    "for i in range(len(augmented_images)):\n",
    "    augmented_images[i] = preprocess_image(augmented_images[i])\n",
    "# view some random images\n",
    "view_random_images(augmented_images, augmented_labels , num_images=10)"
   ]
  },
  {
   "cell_type": "code",
   "execution_count": null,
   "metadata": {},
   "outputs": [],
   "source": [
    "train_images, train_labels, test_images, test_labels, val_images, val_labels = create_stratified_split(images= images , labels= labels , test_size=0.1, val_size=0.1)\n",
    "# %store train_images\n",
    "# %store train_labels\n",
    "# %store test_images\n",
    "# %store test_labels\n",
    "# %store val_images\n",
    "# %store val_labels\n",
    "\n",
    "print(\"Train Set Size :\" , len(train_images))\n",
    "print(\"Test Set Size :\" , len(test_images))\n",
    "print(\"Val Set Size :\" , len(val_images))"
   ]
  },
  {
   "cell_type": "code",
   "execution_count": null,
   "metadata": {},
   "outputs": [],
   "source": [
    "get_split_stats(train_labels, test_labels, val_labels)"
   ]
  },
  {
   "cell_type": "code",
   "execution_count": null,
   "metadata": {},
   "outputs": [],
   "source": [
    "#all augmented images are used for training\n",
    "# train_images.extend(augmented_images)\n",
    "# train_labels.extend(augmented_labels)\n",
    "\n"
   ]
  },
  {
   "cell_type": "code",
   "execution_count": null,
   "metadata": {},
   "outputs": [],
   "source": [
    "print(\"Train Set Size :\" , len(train_images))\n",
    "assert len(train_images) == len(train_labels) , \"Images and labels of train Dataset are not of the same size\""
   ]
  },
  {
   "cell_type": "code",
   "execution_count": null,
   "metadata": {},
   "outputs": [],
   "source": [
    "from modules.feature_extraction import visualize_HOG\n",
    "## here we explore the HOG features of a random image\n",
    "## and how the HOG features change with different parameters\n",
    "## the default parameters are the ones we chose \n",
    "index = np.random.randint(0,len(train_images))\n",
    "image = train_images[index]\n",
    "print(\"Label: \" , train_labels[index])\n",
    "visualize_HOG(image , pixels_per_cell= (16,16) , cells_per_block= (16,16) , orientation= 3)"
   ]
  },
  {
   "cell_type": "code",
   "execution_count": null,
   "metadata": {},
   "outputs": [],
   "source": [
    "index"
   ]
  },
  {
   "cell_type": "code",
   "execution_count": null,
   "metadata": {},
   "outputs": [],
   "source": [
    "# from modules.feature_extraction import extract_features_skimage\n",
    "\n",
    "# # Extract all features from the whole dataset\n",
    "# train_features = np.array([])\n",
    "\n",
    "# for image in train_images:\n",
    "#     features = extract_features_skimage(image)\n",
    "#     if train_features.size == 0:\n",
    "#         train_features = features\n",
    "#     else:\n",
    "#         train_features = np.vstack((train_features, features))"
   ]
  },
  {
   "cell_type": "code",
   "execution_count": null,
   "metadata": {},
   "outputs": [],
   "source": [
    "# print(train_features.shape)"
   ]
  },
  {
   "cell_type": "code",
   "execution_count": null,
   "metadata": {},
   "outputs": [],
   "source": [
    "# import pickle\n",
    "# # Save the train_features in a pickle file\n",
    "# with open('train_features.pkl', 'wb') as f:\n",
    "#     pickle.dump(train_features, f)"
   ]
  },
  {
   "cell_type": "code",
   "execution_count": null,
   "metadata": {},
   "outputs": [],
   "source": [
    "import pickle \n",
    "# load the train_features from the pickle file\n",
    "with open('train_features.pkl', 'rb') as f:\n",
    "    train_features = pickle.load(f)\n"
   ]
  },
  {
   "attachments": {},
   "cell_type": "markdown",
   "metadata": {},
   "source": [
    "### Try different values of n_components \n",
    "- The extracted features should be experimented to choose the best value for n_components. "
   ]
  },
  {
   "cell_type": "code",
   "execution_count": null,
   "metadata": {},
   "outputs": [],
   "source": [
    "from modules.feature_extraction import reduce_features\n",
    "\n",
    "# Reduce the dimensionality of the features\n",
    "pca3, train_features_reduced3 = reduce_features(train_features, n_components= 0.45)"
   ]
  },
  {
   "cell_type": "code",
   "execution_count": null,
   "metadata": {},
   "outputs": [],
   "source": [
    "# Reduce the dimensionality of the features\n",
    "pca4, train_features_reduced4 = reduce_features(train_features, n_components= 0.20)"
   ]
  },
  {
   "cell_type": "code",
   "execution_count": null,
   "metadata": {},
   "outputs": [],
   "source": [
    "# Reduce the dimensionality of the features\n",
    "pca5, train_features_reduced5 = reduce_features(train_features, n_components= 0.10)"
   ]
  },
  {
   "cell_type": "code",
   "execution_count": null,
   "metadata": {},
   "outputs": [],
   "source": [
    "# print all the reduced features shapes\n",
    "print(train_features_reduced3.shape)\n",
    "print(train_features_reduced4.shape)\n",
    "print(train_features_reduced5.shape)"
   ]
  },
  {
   "cell_type": "code",
   "execution_count": null,
   "metadata": {},
   "outputs": [],
   "source": [
    "#extract features from the test images\n",
    "test_features = np.array([])\n",
    "for image in test_images:\n",
    "    features = extract_features_skimage(image)\n",
    "    if test_features.size == 0:\n",
    "        test_features = features\n",
    "    else:\n",
    "        test_features = np.vstack((test_features, features))"
   ]
  },
  {
   "cell_type": "code",
   "execution_count": null,
   "metadata": {},
   "outputs": [],
   "source": [
    "print(\"Test_features_shape: \",str(test_features.shape))"
   ]
  },
  {
   "cell_type": "code",
   "execution_count": null,
   "metadata": {},
   "outputs": [],
   "source": [
    "test_features_reduced3 = pca3.transform(test_features)\n",
    "test_features_reduced4 = pca4.transform(test_features)\n",
    "test_features_reduced5 = pca5.transform(test_features)"
   ]
  },
  {
   "cell_type": "code",
   "execution_count": null,
   "metadata": {},
   "outputs": [],
   "source": [
    "print(\"Test_features_reduced_shape: \",str(test_features_reduced3.shape))\n",
    "print(\"Test_features_reduced_shape: \",str(test_features_reduced4.shape))\n",
    "print(\"Test_features_reduced_shape: \",str(test_features_reduced5.shape))"
   ]
  },
  {
   "cell_type": "code",
   "execution_count": null,
   "metadata": {},
   "outputs": [],
   "source": [
    "#Extracting Digit labels\n",
    "train_labels_digit = [x[1] for x in train_labels]\n",
    "test_labels_digit = [x[1] for x in test_labels]\n",
    "\n",
    "#Converting Labels to NP array\n",
    "train_labels_digit = np.array(train_labels_digit).astype(int)\n",
    "test_labels_digit = np.array(test_labels_digit).astype(int)\n",
    "\n",
    "#printing Label vector shape\n",
    "print(\"Train_labels_shape: \",str(train_labels_digit.shape))\n",
    "print(\"Test_labels_shape: \",str(test_labels_digit.shape))\n"
   ]
  },
  {
   "cell_type": "code",
   "execution_count": null,
   "metadata": {},
   "outputs": [],
   "source": [
    "from modules.models import svm_model\n",
    "\n",
    "SVM_model5 = svm_model(train_features_reduced5, train_labels_digit, test_features_reduced5, test_labels_digit)"
   ]
  },
  {
   "cell_type": "code",
   "execution_count": null,
   "metadata": {},
   "outputs": [],
   "source": [
    "NN_model5 = nn_model(train_features_reduced5, train_labels_digit, test_features_reduced5, test_labels_digit)"
   ]
  },
  {
   "cell_type": "code",
   "execution_count": null,
   "metadata": {},
   "outputs": [],
   "source": [
    "model4 = svm_model(train_features_reduced4, train_labels_digit, test_features_reduced4, test_labels_digit)"
   ]
  },
  {
   "cell_type": "code",
   "execution_count": null,
   "metadata": {},
   "outputs": [],
   "source": [
    "nn_model4 = nn_model(train_features_reduced4, train_labels_digit, test_features_reduced4, test_labels_digit)"
   ]
  },
  {
   "cell_type": "code",
   "execution_count": null,
   "metadata": {},
   "outputs": [],
   "source": [
    "model3 = svm_model(train_features_reduced3, train_labels_digit, test_features_reduced3, test_labels_digit)"
   ]
  },
  {
   "cell_type": "code",
   "execution_count": null,
   "metadata": {},
   "outputs": [],
   "source": [
    "nn_model3 = nn_model(train_features_reduced3, train_labels_digit, test_features_reduced3, test_labels_digit)"
   ]
  }
 ],
 "metadata": {
  "kernelspec": {
   "display_name": "openmmlab",
   "language": "python",
   "name": "python3"
  },
  "language_info": {
   "codemirror_mode": {
    "name": "ipython",
    "version": 3
   },
   "file_extension": ".py",
   "mimetype": "text/x-python",
   "name": "python",
   "nbconvert_exporter": "python",
   "pygments_lexer": "ipython3",
   "version": "3.9.16"
  },
  "orig_nbformat": 4
 },
 "nbformat": 4,
 "nbformat_minor": 2
}
